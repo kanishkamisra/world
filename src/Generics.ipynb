{
 "cells": [
  {
   "cell_type": "markdown",
   "metadata": {},
   "source": [
    "# Generating Generics"
   ]
  },
  {
   "cell_type": "code",
   "execution_count": 14,
   "metadata": {},
   "outputs": [],
   "source": [
    "import torch\n",
    "from semantic_memory import memory\n",
    "\n",
    "from collections import defaultdict"
   ]
  },
  {
   "cell_type": "code",
   "execution_count": 15,
   "metadata": {},
   "outputs": [
    {
     "name": "stderr",
     "output_type": "stream",
     "text": [
      "521it [00:00, 2929.70it/s]\n"
     ]
    }
   ],
   "source": [
    "# Create world with the desired files (refer to README for details about the files)\n",
    "\n",
    "world = memory.Memory(\n",
    "    concept_path=\"../data/concept_senses.csv\",\n",
    "    feature_path=\"../data/xcslb_compressed.csv\",\n",
    "    matrix_path=\"../data/concept_matrix.txt\",\n",
    "    feature_metadata=\"../data/feature_lexicon.csv\",\n",
    ")\n",
    "world.create()"
   ]
  },
  {
   "cell_type": "markdown",
   "metadata": {},
   "source": [
    "## A function to retrieve generics\n",
    "\n",
    "Most generics in the eXtended CSLB dataset (XCSLB) can be thought of mostly as majority-characteristic--ones that occur in a majority of the members of a category. Some of these might also be L-principled, but it is difficult to automatically charaterize them at the moment.\n",
    "\n",
    "Logic = consider features that occur in at least `threshold` amount of concepts for a given category. The concepts that possess the property become **instances** of the generic, while those that do not become **exceptions**.\n",
    "\n",
    "Higher order categories can be used from the taxonomy that comes with the world."
   ]
  },
  {
   "cell_type": "code",
   "execution_count": 16,
   "metadata": {},
   "outputs": [],
   "source": [
    "def get_generics(category, threshold = 0.85):\n",
    "    generics = defaultdict(lambda: defaultdict(list))\n",
    "    members = world.taxonomy[category].descendants()\n",
    "\n",
    "    coverage = world.vectors(members).sum(0)/len(members)\n",
    "\n",
    "    candidate_features = torch.bitwise_and(coverage >= threshold, coverage < 1.0).nonzero().flatten()\n",
    "\n",
    "    subspace = world.vectors(members)[:, candidate_features]\n",
    "\n",
    "    idx = {\n",
    "        'instances': (subspace != 0.0).nonzero().tolist(),\n",
    "        'exceptions': (subspace == 0.0).nonzero().tolist()\n",
    "    }\n",
    "\n",
    "    for k, v in idx.items():\n",
    "        for concept, feature in v:\n",
    "            feature = world.features[candidate_features[feature].item()]\n",
    "            concept = members[concept]\n",
    "            generics[feature][k].append(concept)\n",
    "\n",
    "    for k, v in generics.items():\n",
    "        v.default_factory = None\n",
    "    generics.default_factory = None\n",
    "\n",
    "    return generics"
   ]
  },
  {
   "cell_type": "markdown",
   "metadata": {},
   "source": [
    "Consider higher order categories that are meaningful and have at least 5 members, and aren't too broad (less than 200 members). Here's how to retrieve them from the taxonomy (subset of wordnet):"
   ]
  },
  {
   "cell_type": "code",
   "execution_count": 17,
   "metadata": {},
   "outputs": [],
   "source": [
    "categories = defaultdict(dict)\n",
    "\n",
    "for k, v in world.taxonomy.items():\n",
    "    category_name = k.split(\".\")[0].replace(\"_\", \" \").strip()\n",
    "    num_descendants = len(v.descendants())\n",
    "    if category_name not in world.concepts and num_descendants > 5 and num_descendants < 200:\n",
    "        categories[category_name] = {\n",
    "            'taxonomy_node': k,\n",
    "            'descendants': num_descendants\n",
    "        }\n",
    "        \n",
    "categories.default_factory = None"
   ]
  },
  {
   "cell_type": "markdown",
   "metadata": {},
   "source": [
    "## Actually generating the generics!\n",
    "\n",
    "Here is a demo for generating generics for birds with 0.8 as the threshold.\n",
    "\n",
    "I have no particular recommendations how one should decide on a threshold, but am open to any changes should they be reasonable."
   ]
  },
  {
   "cell_type": "code",
   "execution_count": 19,
   "metadata": {},
   "outputs": [
    {
     "name": "stdout",
     "output_type": "stream",
     "text": [
      "--------------------------------------------------------------------------------\n",
      "GENERIC: A bird can be airborne\n",
      "EXCEPTIONS:\n",
      "a cockerel cannot be airborne\n",
      "a penguin cannot be airborne\n",
      "an emu cannot be airborne\n",
      "an ostrich cannot be airborne\n",
      "--------------------------------------------------------------------------------\n",
      "--------------------------------------------------------------------------------\n",
      "GENERIC: A bird can build nests\n",
      "EXCEPTIONS:\n",
      "a peacock cannot build nests\n",
      "--------------------------------------------------------------------------------\n",
      "--------------------------------------------------------------------------------\n",
      "GENERIC: A bird can fly\n",
      "EXCEPTIONS:\n",
      "a cockerel cannot fly\n",
      "a penguin cannot fly\n",
      "an emu cannot fly\n",
      "an ostrich cannot fly\n",
      "--------------------------------------------------------------------------------\n",
      "--------------------------------------------------------------------------------\n",
      "GENERIC: A bird can stand on one leg\n",
      "EXCEPTIONS:\n",
      "a penguin cannot stand on one leg\n",
      "a hummingbird cannot stand on one leg\n",
      "--------------------------------------------------------------------------------\n",
      "--------------------------------------------------------------------------------\n",
      "GENERIC: A bird has legs\n",
      "EXCEPTIONS:\n",
      "a hummingbird does not have legs\n",
      "--------------------------------------------------------------------------------\n",
      "--------------------------------------------------------------------------------\n",
      "GENERIC: A bird has small legs\n",
      "EXCEPTIONS:\n",
      "a crane does not have small legs\n",
      "a flamingo does not have small legs\n",
      "a heron does not have small legs\n",
      "an emu does not have small legs\n",
      "an ostrich does not have small legs\n",
      "--------------------------------------------------------------------------------\n",
      "--------------------------------------------------------------------------------\n",
      "GENERIC: A bird eats meat\n",
      "EXCEPTIONS:\n",
      "a budgie does not eat meat\n",
      "a goose does not eat meat\n",
      "a swan does not eat meat\n",
      "a hummingbird does not eat meat\n",
      "--------------------------------------------------------------------------------\n"
     ]
    }
   ],
   "source": [
    "gen = get_generics('bird.n.01', 0.8)\n",
    "\n",
    "for feature, generics in gen.items():\n",
    "    print('-'*80)\n",
    "    print(f\"GENERIC: A bird {feature}\")\n",
    "    print(f\"EXCEPTIONS:\")\n",
    "    for e in generics['exceptions']:\n",
    "        print(f'{world.lexicon[e].article} {world.feature_lexicon[feature].negation}')\n",
    "    # Optionally, you can access the instances by running \n",
    "    # the above loop for generics['instances'] as well\n",
    "    print('-'*80)"
   ]
  },
  {
   "cell_type": "code",
   "execution_count": null,
   "metadata": {},
   "outputs": [],
   "source": []
  }
 ],
 "metadata": {
  "kernelspec": {
   "display_name": "Python 3",
   "language": "python",
   "name": "python3"
  },
  "language_info": {
   "codemirror_mode": {
    "name": "ipython",
    "version": 3
   },
   "file_extension": ".py",
   "mimetype": "text/x-python",
   "name": "python",
   "nbconvert_exporter": "python",
   "pygments_lexer": "ipython3",
   "version": "3.8.3"
  },
  "vscode": {
   "interpreter": {
    "hash": "5a043feaa07d71c5780410979553f52a65765b4fb511d4ca3b159db6a959a5bf"
   }
  }
 },
 "nbformat": 4,
 "nbformat_minor": 2
}
