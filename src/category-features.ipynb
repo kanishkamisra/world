{
 "cells": [
  {
   "cell_type": "code",
   "execution_count": 1,
   "id": "57e5d3a6",
   "metadata": {},
   "outputs": [],
   "source": [
    "from collections import defaultdict, Counter\n",
    "from semantic_memory import memory\n",
    "\n",
    "import torch"
   ]
  },
  {
   "cell_type": "code",
   "execution_count": 2,
   "id": "4dca4e9a",
   "metadata": {},
   "outputs": [
    {
     "name": "stderr",
     "output_type": "stream",
     "text": [
      "521it [00:00, 2119.85it/s]\n"
     ]
    }
   ],
   "source": [
    "world = memory.Memory(\n",
    "    concept_path=\"../data/concept_senses.csv\",\n",
    "    feature_path=\"../data/xcslb_compressed.csv\",\n",
    "    matrix_path=\"../data/concept_matrix.txt\",\n",
    "    feature_metadata=\"../data/feature_lexicon.csv\",\n",
    ")\n",
    "world.create()\n"
   ]
  },
  {
   "cell_type": "code",
   "execution_count": 3,
   "id": "73f173ee",
   "metadata": {},
   "outputs": [
    {
     "data": {
      "text/plain": [
       "'\\n- Select category from taxonomy\\n- get all possible features\\n- for all descendants, count features/len(descendants)\\n'"
      ]
     },
     "execution_count": 3,
     "metadata": {},
     "output_type": "execute_result"
    }
   ],
   "source": [
    "'''\n",
    "- Select category from taxonomy\n",
    "- get all possible features\n",
    "- for all descendants, count features/len(descendants)\n",
    "'''"
   ]
  },
  {
   "cell_type": "code",
   "execution_count": 4,
   "id": "38e4b99d",
   "metadata": {},
   "outputs": [
    {
     "data": {
      "text/plain": [
       "Semantic Memory containing 521 concepts and 3649 properties."
      ]
     },
     "execution_count": 4,
     "metadata": {},
     "output_type": "execute_result"
    }
   ],
   "source": [
    "world"
   ]
  },
  {
   "cell_type": "code",
   "execution_count": 13,
   "id": "196e6651",
   "metadata": {},
   "outputs": [],
   "source": [
    "category = 'mammals'\n",
    "members = world.taxonomy['vertebrate.n.01'].descendants()\n",
    "\n",
    "# cat_feature_space = defaultdict(float)"
   ]
  },
  {
   "cell_type": "code",
   "execution_count": 14,
   "id": "50f1078c",
   "metadata": {},
   "outputs": [],
   "source": [
    "ratio = world.vectors(members).sum(0)/len(members)"
   ]
  },
  {
   "cell_type": "code",
   "execution_count": 12,
   "id": "2cba0629",
   "metadata": {},
   "outputs": [
    {
     "data": {
      "text/plain": [
       "'emu'"
      ]
     },
     "execution_count": 12,
     "metadata": {},
     "output_type": "execute_result"
    }
   ],
   "source": [
    "members[34]"
   ]
  },
  {
   "cell_type": "code",
   "execution_count": 15,
   "id": "753d24c6",
   "metadata": {},
   "outputs": [],
   "source": [
    "'''\n",
    "given category and a threshold proportion (which dictates which features are to be chosen),\n",
    "return dictionary of those features with instances and exceptions.\n",
    "\n",
    "if threshold is 0.8, then it selects selects features that are at present in at least 80% of the descendants of the category.\n",
    "\n",
    "{\n",
    "    feature1: {\n",
    "        instances: [],\n",
    "        exceptions: []\n",
    "    },\n",
    "    feature2: {\n",
    "        instances: [],\n",
    "        exceptions: []\n",
    "    },\n",
    "    ...\n",
    "}\n",
    "\n",
    "TODO: add a way to add category lemma names as a dictionary (from the taxonomy)\n",
    "'''\n",
    "def get_generics(category, threshold = 0.85):\n",
    "    generics = defaultdict(lambda: defaultdict(list))\n",
    "    members = world.taxonomy[category].descendants()\n",
    "\n",
    "    coverage = world.vectors(members).sum(0)/len(members)\n",
    "\n",
    "    candidate_features = torch.bitwise_and(coverage >= threshold, coverage < 1.0).nonzero().flatten()\n",
    "\n",
    "    subspace = world.vectors(members)[:, candidate_features]\n",
    "\n",
    "    idx = {\n",
    "        'instances': (subspace != 0.0).nonzero().tolist(),\n",
    "        'exceptions': (subspace == 0.0).nonzero().tolist()\n",
    "    }\n",
    "\n",
    "    for k, v in idx.items():\n",
    "        for concept, feature in v:\n",
    "            feature = world.features[candidate_features[feature].item()]\n",
    "            concept = members[concept]\n",
    "            generics[feature][k].append(concept)\n",
    "\n",
    "    for k, v in generics.items():\n",
    "        v.default_factory = None\n",
    "    generics.default_factory = None\n",
    "\n",
    "    return generics\n"
   ]
  },
  {
   "cell_type": "code",
   "execution_count": 16,
   "id": "430bad50",
   "metadata": {},
   "outputs": [
    {
     "data": {
      "text/plain": [
       "defaultdict(None,\n",
       "            {'instances': ['budgie',\n",
       "              'parakeet',\n",
       "              'buzzard',\n",
       "              'falcon',\n",
       "              'hawk',\n",
       "              'eagle',\n",
       "              'owl',\n",
       "              'canary',\n",
       "              'magpie',\n",
       "              'raven',\n",
       "              'nightingale',\n",
       "              'robin',\n",
       "              'starling',\n",
       "              'sparrow',\n",
       "              'wren',\n",
       "              'chicken',\n",
       "              'turkey',\n",
       "              'dove',\n",
       "              'pigeon',\n",
       "              'partridge',\n",
       "              'peacock',\n",
       "              'crane',\n",
       "              'flamingo',\n",
       "              'heron',\n",
       "              'duck',\n",
       "              'goose',\n",
       "              'pelican',\n",
       "              'seagull',\n",
       "              'swan',\n",
       "              'hummingbird',\n",
       "              'kingfisher',\n",
       "              'woodpecker'],\n",
       "             'exceptions': ['cockerel', 'penguin', 'emu', 'ostrich']})"
      ]
     },
     "execution_count": 16,
     "metadata": {},
     "output_type": "execute_result"
    }
   ],
   "source": [
    "bird_generics = get_generics('bird.n.01', 0.85)\n",
    "\n",
    "bird_generics['can fly']"
   ]
  },
  {
   "cell_type": "code",
   "execution_count": 18,
   "id": "0f48b3ad",
   "metadata": {},
   "outputs": [
    {
     "data": {
      "text/plain": [
       "Feature(feature='can be airborne', feature_type='encyclopedic', negation='cannot be airborne')"
      ]
     },
     "execution_count": 18,
     "metadata": {},
     "output_type": "execute_result"
    }
   ],
   "source": [
    "world.feature_lexicon['can be airborne']"
   ]
  },
  {
   "cell_type": "code",
   "execution_count": 17,
   "id": "236f64bc",
   "metadata": {},
   "outputs": [
    {
     "data": {
      "text/plain": [
       "tensor([ 976, 1565, 1567, 1710, 1901])"
      ]
     },
     "execution_count": 17,
     "metadata": {},
     "output_type": "execute_result"
    }
   ],
   "source": [
    "selected_features = torch.bitwise_and(ratio >= 0.85, ratio < 1.0).nonzero().flatten()\n",
    "selected_features"
   ]
  },
  {
   "cell_type": "code",
   "execution_count": 24,
   "id": "34e62d16",
   "metadata": {},
   "outputs": [
    {
     "data": {
      "text/plain": [
       "torch.Size([111, 5])"
      ]
     },
     "execution_count": 24,
     "metadata": {},
     "output_type": "execute_result"
    }
   ],
   "source": [
    "world.vectors(members)[:, selected_features]"
   ]
  },
  {
   "cell_type": "code",
   "execution_count": 29,
   "id": "2716f24c",
   "metadata": {},
   "outputs": [
    {
     "name": "stdout",
     "output_type": "stream",
     "text": [
      "dolphin has a tongue\n",
      "dolphin has forelimbs\n",
      "whale has a nose\n",
      "whale has forelimbs\n",
      "turtle has a nose\n",
      "carp can make sounds\n",
      "carp has a neck\n",
      "carp has a nose\n",
      "carp has a tongue\n",
      "carp has forelimbs\n",
      "goldfish can make sounds\n",
      "goldfish has a neck\n",
      "goldfish has a nose\n",
      "goldfish has a tongue\n",
      "goldfish has forelimbs\n",
      "minnow can make sounds\n",
      "minnow has a neck\n",
      "minnow has a nose\n",
      "minnow has a tongue\n",
      "minnow has forelimbs\n",
      "cod can make sounds\n",
      "cod has a neck\n",
      "cod has a nose\n",
      "cod has a tongue\n",
      "cod has forelimbs\n",
      "herring can make sounds\n",
      "herring has a neck\n",
      "herring has a nose\n",
      "herring has a tongue\n",
      "herring has forelimbs\n",
      "sardine can make sounds\n",
      "sardine has a neck\n",
      "sardine has a nose\n",
      "sardine has a tongue\n",
      "sardine has forelimbs\n",
      "salmon can make sounds\n",
      "salmon has a neck\n",
      "salmon has a nose\n",
      "salmon has a tongue\n",
      "salmon has forelimbs\n",
      "trout can make sounds\n",
      "trout has a neck\n",
      "trout has a nose\n",
      "trout has a tongue\n",
      "trout has forelimbs\n",
      "eel can make sounds\n",
      "eel has a neck\n",
      "eel has a nose\n",
      "eel has a tongue\n",
      "eel has forelimbs\n",
      "flounder can make sounds\n",
      "flounder has a neck\n",
      "flounder has a nose\n",
      "flounder has a tongue\n",
      "flounder has forelimbs\n",
      "mackerel can make sounds\n",
      "mackerel has a neck\n",
      "mackerel has a nose\n",
      "mackerel has a tongue\n",
      "mackerel has forelimbs\n",
      "tuna can make sounds\n",
      "tuna has a neck\n",
      "tuna has a nose\n",
      "tuna has a tongue\n",
      "tuna has forelimbs\n",
      "seahorse can make sounds\n",
      "seahorse has a neck\n",
      "seahorse has a tongue\n",
      "seahorse has forelimbs\n",
      "shark can make sounds\n",
      "shark has a neck\n",
      "shark has a tongue\n",
      "shark has forelimbs\n"
     ]
    }
   ],
   "source": [
    "for (k, v) in (world.vectors(members)[:, selected_features] == 0).nonzero().tolist():\n",
    "    print(members[k], world.features[selected_features[v].item()])"
   ]
  },
  {
   "cell_type": "code",
   "execution_count": 19,
   "id": "ac24f3c8",
   "metadata": {},
   "outputs": [
    {
     "name": "stdout",
     "output_type": "stream",
     "text": [
      "can make sounds\n",
      "----\n",
      "carp\n",
      "goldfish\n",
      "minnow\n",
      "cod\n",
      "herring\n",
      "sardine\n",
      "salmon\n",
      "trout\n",
      "eel\n",
      "flounder\n",
      "mackerel\n",
      "tuna\n",
      "seahorse\n",
      "shark\n"
     ]
    }
   ],
   "source": [
    "feature = world.features[976]\n",
    "print(feature)\n",
    "print('----')\n",
    "for m in members:\n",
    "    if feature not in world.concept_features[m]:\n",
    "        print(m)\n",
    "        "
   ]
  },
  {
   "cell_type": "code",
   "execution_count": 57,
   "id": "820bd928",
   "metadata": {},
   "outputs": [
    {
     "data": {
      "text/plain": [
       "['crane',\n",
       " 'flamingo',\n",
       " 'heron',\n",
       " 'duck',\n",
       " 'goose',\n",
       " 'pelican',\n",
       " 'penguin',\n",
       " 'seagull',\n",
       " 'swan']"
      ]
     },
     "execution_count": 57,
     "metadata": {},
     "output_type": "execute_result"
    }
   ],
   "source": [
    "world.taxonomy['aquatic_bird.n.01'].descendants()"
   ]
  },
  {
   "cell_type": "code",
   "execution_count": 63,
   "id": "d58ad052",
   "metadata": {},
   "outputs": [
    {
     "name": "stdout",
     "output_type": "stream",
     "text": [
      "is semi aquatic\n",
      "----\n",
      "seagull\n"
     ]
    }
   ],
   "source": []
  },
  {
   "cell_type": "code",
   "execution_count": 83,
   "id": "045a0888",
   "metadata": {},
   "outputs": [
    {
     "data": {
      "text/plain": [
       "tensor(3649)"
      ]
     },
     "execution_count": 83,
     "metadata": {},
     "output_type": "execute_result"
    }
   ],
   "source": [
    "(world.vectors.embeddings[0] == world.vectors('accordion')).sum()"
   ]
  },
  {
   "cell_type": "code",
   "execution_count": 81,
   "id": "9baa50da",
   "metadata": {},
   "outputs": [
    {
     "data": {
      "text/plain": [
       "['bat',\n",
       " 'bear',\n",
       " 'cat',\n",
       " 'cheetah',\n",
       " 'leopard',\n",
       " 'lion',\n",
       " 'panther',\n",
       " 'tiger',\n",
       " 'dog',\n",
       " 'fox',\n",
       " 'hyena',\n",
       " 'wolf',\n",
       " 'raccoon',\n",
       " 'skunk',\n",
       " 'otter',\n",
       " 'beaver',\n",
       " 'chipmunk',\n",
       " 'squirrel',\n",
       " 'gerbil',\n",
       " 'guinea_pig',\n",
       " 'hamster',\n",
       " 'mouse',\n",
       " 'porcupine',\n",
       " 'rat',\n",
       " 'buffalo',\n",
       " 'cow',\n",
       " 'ox',\n",
       " 'goat',\n",
       " 'sheep',\n",
       " 'deer',\n",
       " 'moose',\n",
       " 'giraffe',\n",
       " 'camel',\n",
       " 'hippo',\n",
       " 'llama',\n",
       " 'pig',\n",
       " 'donkey',\n",
       " 'horse',\n",
       " 'pony',\n",
       " 'zebra',\n",
       " 'rhino',\n",
       " 'gorilla',\n",
       " 'monkey',\n",
       " 'hedgehog',\n",
       " 'rabbit',\n",
       " 'seal',\n",
       " 'walrus',\n",
       " 'dolphin',\n",
       " 'whale',\n",
       " 'elephant',\n",
       " 'kangaroo',\n",
       " 'platypus',\n",
       " 'crocodile',\n",
       " 'alligator',\n",
       " 'lizard',\n",
       " 'iguana',\n",
       " 'rattlesnake',\n",
       " 'tortoise',\n",
       " 'turtle',\n",
       " 'frog',\n",
       " 'toad',\n",
       " 'budgie',\n",
       " 'parakeet',\n",
       " 'buzzard',\n",
       " 'falcon',\n",
       " 'hawk',\n",
       " 'eagle',\n",
       " 'owl',\n",
       " 'canary',\n",
       " 'magpie',\n",
       " 'raven',\n",
       " 'nightingale',\n",
       " 'robin',\n",
       " 'starling',\n",
       " 'sparrow',\n",
       " 'wren',\n",
       " 'chicken',\n",
       " 'cockerel',\n",
       " 'turkey',\n",
       " 'dove',\n",
       " 'pigeon',\n",
       " 'partridge',\n",
       " 'peacock',\n",
       " 'crane',\n",
       " 'flamingo',\n",
       " 'heron',\n",
       " 'duck',\n",
       " 'goose',\n",
       " 'pelican',\n",
       " 'penguin',\n",
       " 'seagull',\n",
       " 'swan',\n",
       " 'hummingbird',\n",
       " 'kingfisher',\n",
       " 'woodpecker',\n",
       " 'emu',\n",
       " 'ostrich',\n",
       " 'carp',\n",
       " 'goldfish',\n",
       " 'minnow',\n",
       " 'cod',\n",
       " 'herring',\n",
       " 'sardine',\n",
       " 'salmon',\n",
       " 'trout',\n",
       " 'eel',\n",
       " 'flounder',\n",
       " 'mackerel',\n",
       " 'tuna',\n",
       " 'seahorse',\n",
       " 'shark',\n",
       " 'calf',\n",
       " 'lamb',\n",
       " 'bee',\n",
       " 'hornet',\n",
       " 'wasp',\n",
       " 'ant',\n",
       " 'beetle',\n",
       " 'ladybird',\n",
       " 'butterfly',\n",
       " 'moth',\n",
       " 'cockroach',\n",
       " 'cricket',\n",
       " 'grasshopper',\n",
       " 'locust',\n",
       " 'dragonfly',\n",
       " 'flea',\n",
       " 'housefly',\n",
       " 'mosquito',\n",
       " 'stick_insect',\n",
       " 'termite',\n",
       " 'centipede',\n",
       " 'millipede',\n",
       " 'scorpion',\n",
       " 'spider',\n",
       " 'tarantula',\n",
       " 'crab',\n",
       " 'crayfish',\n",
       " 'lobster',\n",
       " 'prawn',\n",
       " 'shrimp',\n",
       " 'slug',\n",
       " 'snail',\n",
       " 'clam',\n",
       " 'mussel',\n",
       " 'scallop',\n",
       " 'oyster',\n",
       " 'squid',\n",
       " 'octopus',\n",
       " 'worm',\n",
       " 'jellyfish',\n",
       " 'caterpillar',\n",
       " 'buttercup',\n",
       " 'dandelion',\n",
       " 'geranium',\n",
       " 'pansy',\n",
       " 'brussels_sprout',\n",
       " 'carnation',\n",
       " 'daisy',\n",
       " 'marigold',\n",
       " 'poppy',\n",
       " 'sunflower',\n",
       " 'orchid',\n",
       " 'daffodil',\n",
       " 'hyacinth',\n",
       " 'lily',\n",
       " 'tulip',\n",
       " 'rose',\n",
       " 'birch',\n",
       " 'chestnut',\n",
       " 'fir',\n",
       " 'pine',\n",
       " 'sycamore',\n",
       " 'willow',\n",
       " 'elm',\n",
       " 'eucalyptus',\n",
       " 'oak']"
      ]
     },
     "execution_count": 81,
     "metadata": {},
     "output_type": "execute_result"
    }
   ],
   "source": [
    "world.taxonomy['living_thing.n.01'].descendants()"
   ]
  },
  {
   "cell_type": "code",
   "execution_count": 23,
   "id": "eb747114",
   "metadata": {},
   "outputs": [
    {
     "data": {
      "text/plain": [
       "Node animal.n.01\n",
       "Parent:organism.n.01\n",
       "Children: ['chordate.n.01', 'young.n.01', 'invertebrate.n.01', 'larva.n.01']"
      ]
     },
     "execution_count": 23,
     "metadata": {},
     "output_type": "execute_result"
    }
   ],
   "source": [
    "world.taxonomy['animal.n.01']"
   ]
  },
  {
   "cell_type": "code",
   "execution_count": null,
   "id": "018de046",
   "metadata": {},
   "outputs": [],
   "source": []
  }
 ],
 "metadata": {
  "kernelspec": {
   "display_name": "Python 3.8.3 ('base')",
   "language": "python",
   "name": "python3"
  },
  "language_info": {
   "codemirror_mode": {
    "name": "ipython",
    "version": 3
   },
   "file_extension": ".py",
   "mimetype": "text/x-python",
   "name": "python",
   "nbconvert_exporter": "python",
   "pygments_lexer": "ipython3",
   "version": "3.8.3"
  },
  "vscode": {
   "interpreter": {
    "hash": "5a043feaa07d71c5780410979553f52a65765b4fb511d4ca3b159db6a959a5bf"
   }
  }
 },
 "nbformat": 4,
 "nbformat_minor": 5
}
